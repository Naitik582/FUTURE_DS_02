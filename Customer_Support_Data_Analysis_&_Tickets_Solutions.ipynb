{
  "nbformat": 4,
  "nbformat_minor": 0,
  "metadata": {
    "colab": {
      "provenance": [],
      "authorship_tag": "ABX9TyO6x7ttoxTRAl5al7zh+OLT",
      "include_colab_link": true
    },
    "kernelspec": {
      "name": "python3",
      "display_name": "Python 3"
    },
    "language_info": {
      "name": "python"
    }
  },
  "cells": [
    {
      "cell_type": "markdown",
      "metadata": {
        "id": "view-in-github",
        "colab_type": "text"
      },
      "source": [
        "<a href=\"https://colab.research.google.com/github/Naitik582/FUTURE_DS_02/blob/main/Customer_Support_Data_Analysis_%26_Tickets_Solutions.ipynb\" target=\"_parent\"><img src=\"https://colab.research.google.com/assets/colab-badge.svg\" alt=\"Open In Colab\"/></a>"
      ]
    },
    {
      "cell_type": "code",
      "execution_count": 5,
      "metadata": {
        "colab": {
          "base_uri": "https://localhost:8080/",
          "height": 128
        },
        "id": "aIy9HYuq72IU",
        "outputId": "fa1cf854-b5dc-4f57-8cc2-fa844dff91ef"
      },
      "outputs": [
        {
          "output_type": "display_data",
          "data": {
            "text/plain": [
              "<IPython.core.display.HTML object>"
            ],
            "text/html": [
              "\n",
              "     <input type=\"file\" id=\"files-ef0aed81-5d51-42b2-b02b-6b95a738fc56\" name=\"files[]\" multiple disabled\n",
              "        style=\"border:none\" />\n",
              "     <output id=\"result-ef0aed81-5d51-42b2-b02b-6b95a738fc56\">\n",
              "      Upload widget is only available when the cell has been executed in the\n",
              "      current browser session. Please rerun this cell to enable.\n",
              "      </output>\n",
              "      <script>// Copyright 2017 Google LLC\n",
              "//\n",
              "// Licensed under the Apache License, Version 2.0 (the \"License\");\n",
              "// you may not use this file except in compliance with the License.\n",
              "// You may obtain a copy of the License at\n",
              "//\n",
              "//      http://www.apache.org/licenses/LICENSE-2.0\n",
              "//\n",
              "// Unless required by applicable law or agreed to in writing, software\n",
              "// distributed under the License is distributed on an \"AS IS\" BASIS,\n",
              "// WITHOUT WARRANTIES OR CONDITIONS OF ANY KIND, either express or implied.\n",
              "// See the License for the specific language governing permissions and\n",
              "// limitations under the License.\n",
              "\n",
              "/**\n",
              " * @fileoverview Helpers for google.colab Python module.\n",
              " */\n",
              "(function(scope) {\n",
              "function span(text, styleAttributes = {}) {\n",
              "  const element = document.createElement('span');\n",
              "  element.textContent = text;\n",
              "  for (const key of Object.keys(styleAttributes)) {\n",
              "    element.style[key] = styleAttributes[key];\n",
              "  }\n",
              "  return element;\n",
              "}\n",
              "\n",
              "// Max number of bytes which will be uploaded at a time.\n",
              "const MAX_PAYLOAD_SIZE = 100 * 1024;\n",
              "\n",
              "function _uploadFiles(inputId, outputId) {\n",
              "  const steps = uploadFilesStep(inputId, outputId);\n",
              "  const outputElement = document.getElementById(outputId);\n",
              "  // Cache steps on the outputElement to make it available for the next call\n",
              "  // to uploadFilesContinue from Python.\n",
              "  outputElement.steps = steps;\n",
              "\n",
              "  return _uploadFilesContinue(outputId);\n",
              "}\n",
              "\n",
              "// This is roughly an async generator (not supported in the browser yet),\n",
              "// where there are multiple asynchronous steps and the Python side is going\n",
              "// to poll for completion of each step.\n",
              "// This uses a Promise to block the python side on completion of each step,\n",
              "// then passes the result of the previous step as the input to the next step.\n",
              "function _uploadFilesContinue(outputId) {\n",
              "  const outputElement = document.getElementById(outputId);\n",
              "  const steps = outputElement.steps;\n",
              "\n",
              "  const next = steps.next(outputElement.lastPromiseValue);\n",
              "  return Promise.resolve(next.value.promise).then((value) => {\n",
              "    // Cache the last promise value to make it available to the next\n",
              "    // step of the generator.\n",
              "    outputElement.lastPromiseValue = value;\n",
              "    return next.value.response;\n",
              "  });\n",
              "}\n",
              "\n",
              "/**\n",
              " * Generator function which is called between each async step of the upload\n",
              " * process.\n",
              " * @param {string} inputId Element ID of the input file picker element.\n",
              " * @param {string} outputId Element ID of the output display.\n",
              " * @return {!Iterable<!Object>} Iterable of next steps.\n",
              " */\n",
              "function* uploadFilesStep(inputId, outputId) {\n",
              "  const inputElement = document.getElementById(inputId);\n",
              "  inputElement.disabled = false;\n",
              "\n",
              "  const outputElement = document.getElementById(outputId);\n",
              "  outputElement.innerHTML = '';\n",
              "\n",
              "  const pickedPromise = new Promise((resolve) => {\n",
              "    inputElement.addEventListener('change', (e) => {\n",
              "      resolve(e.target.files);\n",
              "    });\n",
              "  });\n",
              "\n",
              "  const cancel = document.createElement('button');\n",
              "  inputElement.parentElement.appendChild(cancel);\n",
              "  cancel.textContent = 'Cancel upload';\n",
              "  const cancelPromise = new Promise((resolve) => {\n",
              "    cancel.onclick = () => {\n",
              "      resolve(null);\n",
              "    };\n",
              "  });\n",
              "\n",
              "  // Wait for the user to pick the files.\n",
              "  const files = yield {\n",
              "    promise: Promise.race([pickedPromise, cancelPromise]),\n",
              "    response: {\n",
              "      action: 'starting',\n",
              "    }\n",
              "  };\n",
              "\n",
              "  cancel.remove();\n",
              "\n",
              "  // Disable the input element since further picks are not allowed.\n",
              "  inputElement.disabled = true;\n",
              "\n",
              "  if (!files) {\n",
              "    return {\n",
              "      response: {\n",
              "        action: 'complete',\n",
              "      }\n",
              "    };\n",
              "  }\n",
              "\n",
              "  for (const file of files) {\n",
              "    const li = document.createElement('li');\n",
              "    li.append(span(file.name, {fontWeight: 'bold'}));\n",
              "    li.append(span(\n",
              "        `(${file.type || 'n/a'}) - ${file.size} bytes, ` +\n",
              "        `last modified: ${\n",
              "            file.lastModifiedDate ? file.lastModifiedDate.toLocaleDateString() :\n",
              "                                    'n/a'} - `));\n",
              "    const percent = span('0% done');\n",
              "    li.appendChild(percent);\n",
              "\n",
              "    outputElement.appendChild(li);\n",
              "\n",
              "    const fileDataPromise = new Promise((resolve) => {\n",
              "      const reader = new FileReader();\n",
              "      reader.onload = (e) => {\n",
              "        resolve(e.target.result);\n",
              "      };\n",
              "      reader.readAsArrayBuffer(file);\n",
              "    });\n",
              "    // Wait for the data to be ready.\n",
              "    let fileData = yield {\n",
              "      promise: fileDataPromise,\n",
              "      response: {\n",
              "        action: 'continue',\n",
              "      }\n",
              "    };\n",
              "\n",
              "    // Use a chunked sending to avoid message size limits. See b/62115660.\n",
              "    let position = 0;\n",
              "    do {\n",
              "      const length = Math.min(fileData.byteLength - position, MAX_PAYLOAD_SIZE);\n",
              "      const chunk = new Uint8Array(fileData, position, length);\n",
              "      position += length;\n",
              "\n",
              "      const base64 = btoa(String.fromCharCode.apply(null, chunk));\n",
              "      yield {\n",
              "        response: {\n",
              "          action: 'append',\n",
              "          file: file.name,\n",
              "          data: base64,\n",
              "        },\n",
              "      };\n",
              "\n",
              "      let percentDone = fileData.byteLength === 0 ?\n",
              "          100 :\n",
              "          Math.round((position / fileData.byteLength) * 100);\n",
              "      percent.textContent = `${percentDone}% done`;\n",
              "\n",
              "    } while (position < fileData.byteLength);\n",
              "  }\n",
              "\n",
              "  // All done.\n",
              "  yield {\n",
              "    response: {\n",
              "      action: 'complete',\n",
              "    }\n",
              "  };\n",
              "}\n",
              "\n",
              "scope.google = scope.google || {};\n",
              "scope.google.colab = scope.google.colab || {};\n",
              "scope.google.colab._files = {\n",
              "  _uploadFiles,\n",
              "  _uploadFilesContinue,\n",
              "};\n",
              "})(self);\n",
              "</script> "
            ]
          },
          "metadata": {}
        },
        {
          "output_type": "stream",
          "name": "stdout",
          "text": [
            "Saving customer_support_tickets.csv to customer_support_tickets (1).csv\n"
          ]
        }
      ],
      "source": [
        "from google.colab import files\n",
        "uploaded = files.upload()"
      ]
    },
    {
      "cell_type": "code",
      "source": [
        "import pandas as pd\n",
        "\n",
        "df = pd.read_csv(\"customer_support_tickets.csv\")\n",
        "\n",
        "print(df.head(2))"
      ],
      "metadata": {
        "colab": {
          "base_uri": "https://localhost:8080/"
        },
        "id": "rsmtrlgu_zs5",
        "outputId": "29799737-d650-41f7-96a2-70f589f63eb0"
      },
      "execution_count": 24,
      "outputs": [
        {
          "output_type": "stream",
          "name": "stdout",
          "text": [
            "   Ticket ID  Customer Name              Customer Email  Customer Age  \\\n",
            "0          1  Marisa Obrien  carrollallison@example.com            32   \n",
            "1          2   Jessica Rios    clarkeashley@example.com            42   \n",
            "\n",
            "  Customer Gender Product Purchased Date of Purchase      Ticket Type  \\\n",
            "0           Other        GoPro Hero       2021-03-22  Technical issue   \n",
            "1          Female       LG Smart TV       2021-05-22  Technical issue   \n",
            "\n",
            "             Ticket Subject  \\\n",
            "0             Product setup   \n",
            "1  Peripheral compatibility   \n",
            "\n",
            "                                  Ticket Description  \\\n",
            "0  I'm having an issue with the {product_purchase...   \n",
            "1  I'm having an issue with the {product_purchase...   \n",
            "\n",
            "               Ticket Status Resolution Ticket Priority Ticket Channel  \\\n",
            "0  Pending Customer Response        NaN        Critical   Social media   \n",
            "1  Pending Customer Response        NaN        Critical           Chat   \n",
            "\n",
            "   First Response Time Time to Resolution  Customer Satisfaction Rating  \n",
            "0  2023-06-01 12:15:36                NaN                           NaN  \n",
            "1  2023-06-01 16:45:38                NaN                           NaN  \n"
          ]
        }
      ]
    },
    {
      "cell_type": "code",
      "source": [
        "df['Ticket Description'] = df.apply(\n",
        "    lambda row: str(row['Ticket Description']).replace(\"{product_purchased}\", row['Product Purchased']),\n",
        "    axis=1\n",
        ")"
      ],
      "metadata": {
        "id": "eZzvJidq_7P6"
      },
      "execution_count": 10,
      "outputs": []
    },
    {
      "cell_type": "code",
      "source": [
        "df['First Response Time'] = pd.to_datetime(df['First Response Time'], errors='coerce')\n",
        "df['Time to Resolution'] = pd.to_datetime(df['Time to Resolution'], errors='coerce')\n",
        "\n",
        "df['Resolution Time (Hrs)'] = (df['Time to Resolution'] - df['First Response Time']).dt.total_seconds() / 3600"
      ],
      "metadata": {
        "id": "5S8h7W2i___w"
      },
      "execution_count": 11,
      "outputs": []
    },
    {
      "cell_type": "code",
      "source": [
        "print(df.isnull().sum())"
      ],
      "metadata": {
        "colab": {
          "base_uri": "https://localhost:8080/"
        },
        "id": "vDSsPf-cADkh",
        "outputId": "a3ea1168-e34d-4855-dad4-b0f71925be64"
      },
      "execution_count": 12,
      "outputs": [
        {
          "output_type": "stream",
          "name": "stdout",
          "text": [
            "Ticket ID                          0\n",
            "Customer Name                      0\n",
            "Customer Email                     0\n",
            "Customer Age                       0\n",
            "Customer Gender                    0\n",
            "Product Purchased                  0\n",
            "Date of Purchase                   0\n",
            "Ticket Type                        0\n",
            "Ticket Subject                     0\n",
            "Ticket Description                 0\n",
            "Ticket Status                      0\n",
            "Resolution                      5700\n",
            "Ticket Priority                    0\n",
            "Ticket Channel                     0\n",
            "First Response Time             2819\n",
            "Time to Resolution              5700\n",
            "Customer Satisfaction Rating    5700\n",
            "Resolution Time (Hrs)           5700\n",
            "dtype: int64\n"
          ]
        }
      ]
    },
    {
      "cell_type": "code",
      "source": [
        "top_issues = df['Ticket Subject'].value_counts().head(5)\n",
        "print(\"Top 5 Issues:\")\n",
        "print(top_issues)"
      ],
      "metadata": {
        "colab": {
          "base_uri": "https://localhost:8080/"
        },
        "id": "9J3P3dMUAHjs",
        "outputId": "c7d4fc81-fba8-4f83-da75-aca22e088e82"
      },
      "execution_count": 13,
      "outputs": [
        {
          "output_type": "stream",
          "name": "stdout",
          "text": [
            "Top 5 Issues:\n",
            "Ticket Subject\n",
            "Refund request           576\n",
            "Software bug             574\n",
            "Product compatibility    567\n",
            "Delivery problem         561\n",
            "Hardware issue           547\n",
            "Name: count, dtype: int64\n"
          ]
        }
      ]
    },
    {
      "cell_type": "code",
      "source": [
        "import seaborn as sns\n",
        "import matplotlib.pyplot as plt\n",
        "\n",
        "sns.countplot(data=df, x='Ticket Priority')\n",
        "plt.title(\"Ticket Count by Priority\")\n",
        "plt.show()"
      ],
      "metadata": {
        "colab": {
          "base_uri": "https://localhost:8080/",
          "height": 230
        },
        "id": "esIPmUc2AOPl",
        "outputId": "74bc0b82-7663-488f-8a90-7d258fd84169"
      },
      "execution_count": 14,
      "outputs": [
        {
          "output_type": "display_data",
          "data": {
            "text/plain": [
              "<Figure size 640x480 with 1 Axes>"
            ],
            "image/png": "[encoded data removed]"
          },
          "metadata": {}
        }
      ]
    },
    {
      "cell_type": "code",
      "source": [
        "print(\"\\n--- SUMMARY REPORT ---\")\n",
        "print(\"Most Frequent Issues:\")\n",
        "print(top_issues)\n",
        "\n",
        "print(\"\\nAverage Resolution Time (Hours):\")\n",
        "print(df['Resolution Time (Hrs)'].mean())\n",
        "\n",
        "print(\"\\nSuggestions to Improve Response Time:\")\n",
        "print(\"- Create quick-response templates for top issues.\")\n",
        "print(\"- Assign high priority to 'Technical issues' with critical tags.\")\n",
        "print(\"- Automate FAQs for common subjects like 'Product setup' and 'Account access'.\")"
      ],
      "metadata": {
        "colab": {
          "base_uri": "https://localhost:8080/"
        },
        "id": "omZDLhmeASSw",
        "outputId": "f9825276-414a-4b83-9aa7-14b4fc78474d"
      },
      "execution_count": 15,
      "outputs": [
        {
          "output_type": "stream",
          "name": "stdout",
          "text": [
            "\n",
            "--- SUMMARY REPORT ---\n",
            "Most Frequent Issues:\n",
            "Ticket Subject\n",
            "Refund request           576\n",
            "Software bug             574\n",
            "Product compatibility    567\n",
            "Delivery problem         561\n",
            "Hardware issue           547\n",
            "Name: count, dtype: int64\n",
            "\n",
            "Average Resolution Time (Hours):\n",
            "-0.05770434573251475\n",
            "\n",
            "Suggestions to Improve Response Time:\n",
            "- Create quick-response templates for top issues.\n",
            "- Assign high priority to 'Technical issues' with critical tags.\n",
            "- Automate FAQs for common subjects like 'Product setup' and 'Account access'.\n"
          ]
        }
      ]
    }
  ]
}